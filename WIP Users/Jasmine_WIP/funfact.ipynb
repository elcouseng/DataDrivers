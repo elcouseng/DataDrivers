{
 "cells": [
  {
   "cell_type": "code",
   "execution_count": 2,
   "id": "42426470-b93d-4f55-aa42-926a86a0042b",
   "metadata": {},
   "outputs": [],
   "source": [
    "import pandas as pd \n",
    "import numpy as np\n",
    "import sqlite3"
   ]
  },
  {
   "cell_type": "code",
   "execution_count": 6,
   "id": "2ccd3cdc-f8f3-4bbe-b585-f0ae66ae77ac",
   "metadata": {},
   "outputs": [],
   "source": [
    "con = sqlite3.connect('salary_data_states.xlsx')\n",
    "\n",
    "df = pd.read_excel('salary_data_states.xlsx')\n",
    "                      "
   ]
  },
  {
   "cell_type": "code",
   "execution_count": 8,
   "id": "f82f90d8-bc33-481b-aa04-1890549e2734",
   "metadata": {},
   "outputs": [
    {
     "name": "stdout",
     "output_type": "stream",
     "text": [
      "Most common visa class: H-1B\n"
     ]
    }
   ],
   "source": [
    "#fun fact 5 : most common visa class\n",
    "most_common_visa_class = df['VISA_CLASS'].mode()[0]\n",
    "print(f\"Most common visa class: {most_common_visa_class}\")"
   ]
  },
  {
   "cell_type": "code",
   "execution_count": null,
   "id": "707839aa-c263-43e3-9f2d-2eacb8bf43c2",
   "metadata": {},
   "outputs": [],
   "source": []
  }
 ],
 "metadata": {
  "kernelspec": {
   "display_name": "Python 3 (ipykernel)",
   "language": "python",
   "name": "python3"
  },
  "language_info": {
   "codemirror_mode": {
    "name": "ipython",
    "version": 3
   },
   "file_extension": ".py",
   "mimetype": "text/x-python",
   "name": "python",
   "nbconvert_exporter": "python",
   "pygments_lexer": "ipython3",
   "version": "3.11.5"
  }
 },
 "nbformat": 4,
 "nbformat_minor": 5
}
