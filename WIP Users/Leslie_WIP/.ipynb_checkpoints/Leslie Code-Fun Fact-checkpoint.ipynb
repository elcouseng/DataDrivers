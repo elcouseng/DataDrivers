{
 "cells": [
  {
   "cell_type": "code",
   "execution_count": 2,
   "id": "27a02cb8",
   "metadata": {},
   "outputs": [],
   "source": [
    "import pandas as pd\n",
    "import numpy as np\n",
    "import sqlite3\n",
    "\n",
    "con = sqlite3.connect('salary_data_states.xlsx')\n",
    "\n",
    "df = pd.read_excel('salary_data_states.xlsx')"
   ]
  },
  {
   "cell_type": "code",
   "execution_count": 4,
   "id": "b90b7aa2",
   "metadata": {},
   "outputs": [],
   "source": [
    "state_highest_avg_paid_wage = df.groupby('WORK_STATE')['PAID_WAGE_SUBMITTED'].mean().idxmax()"
   ]
  },
  {
   "cell_type": "code",
   "execution_count": 5,
   "id": "4dd5749d",
   "metadata": {},
   "outputs": [
    {
     "name": "stdout",
     "output_type": "stream",
     "text": [
      "State with the highest average paid wage: West Virginia\n"
     ]
    }
   ],
   "source": [
    "print(f\"State with the highest average paid wage: {state_highest_avg_paid_wage}\")\n"
   ]
  },
  {
   "cell_type": "code",
   "execution_count": null,
   "id": "930c7448",
   "metadata": {},
   "outputs": [],
   "source": []
  }
 ],
 "metadata": {
  "kernelspec": {
   "display_name": "Python 3 (ipykernel)",
   "language": "python",
   "name": "python3"
  },
  "language_info": {
   "codemirror_mode": {
    "name": "ipython",
    "version": 3
   },
   "file_extension": ".py",
   "mimetype": "text/x-python",
   "name": "python",
   "nbconvert_exporter": "python",
   "pygments_lexer": "ipython3",
   "version": "3.10.9"
  }
 },
 "nbformat": 4,
 "nbformat_minor": 5
}
