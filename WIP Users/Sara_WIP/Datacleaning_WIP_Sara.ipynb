{
 "cells": [
  {
   "cell_type": "code",
   "execution_count": null,
   "id": "afe0b27e-3284-45e6-87fb-67f4cf56dfec",
   "metadata": {},
   "outputs": [],
   "source": [
    "# This is my current data cleaning WIP for the project'"
   ]
  },
  {
   "cell_type": "code",
   "execution_count": 61,
   "id": "0c9909e4-b5a1-4581-982c-b088ecbc567c",
   "metadata": {},
   "outputs": [
    {
     "data": {
      "text/plain": [
       "167278"
      ]
     },
     "execution_count": 61,
     "metadata": {},
     "output_type": "execute_result"
    }
   ],
   "source": [
    "# Date 11/09/2024\n",
    "import pandas as pd\n",
    "import sqlite3\n",
    "import numpy as np\n",
    "\n",
    "# Load the dataset using a context manager\n",
    "file_path = 'salary_data_states.xlsx'\n",
    "with pd.ExcelFile(file_path) as xls:\n",
    "    df = pd.read_excel(xls)\n",
    "\n",
    "# Create a SQLite connection\n",
    "conn = sqlite3.connect(':memory:')\n",
    "df.to_sql('salary_data', conn, index=False, if_exists='replace')"
   ]
  },
  {
   "cell_type": "code",
   "execution_count": 63,
   "id": "5a2fca25-539c-44aa-91ce-05756ad2b91e",
   "metadata": {},
   "outputs": [],
   "source": [
    "# Remove NA values using SQL query with correct column names\n",
    "query_remove_na = \"\"\"\n",
    "SELECT \n",
    "    *\n",
    "FROM \n",
    "    salary_data\n",
    "WHERE \n",
    "    PAID_WAGE_PER_YEAR IS NOT NULL AND WORK_STATE IS NOT NULL\n",
    "\"\"\"\n",
    "\n",
    "cleaned_df = pd.read_sql_query(query_remove_na, conn)"
   ]
  },
  {
   "cell_type": "code",
   "execution_count": 67,
   "id": "9e70d7de-c4f6-454a-8575-47e881ffa32f",
   "metadata": {},
   "outputs": [],
   "source": [
    "# Remove duplicates directly in pandas\n",
    "cleaned_df.drop_duplicates(inplace=True)"
   ]
  },
  {
   "cell_type": "code",
   "execution_count": 71,
   "id": "4a53e68b-0b32-4dc1-8d6e-81e2fc5d78a3",
   "metadata": {},
   "outputs": [],
   "source": [
    "# Handling Missing Values - Impute Missing Values with mean for numerical columns\n",
    "for column in cleaned_df.select_dtypes(include=[np.number]).columns:\n",
    "    cleaned_df[column] = cleaned_df[column].fillna(cleaned_df[column].mean())"
   ]
  },
  {
   "cell_type": "code",
   "execution_count": 73,
   "id": "8a534651-8b67-4f18-9b8b-bee886be25a2",
   "metadata": {},
   "outputs": [],
   "source": [
    "# Correcting Inconsistencies - Standardize Formats (e.g., dates)\n",
    "if 'CASE_RECEIVED_DATE' in cleaned_df.columns:\n",
    "    cleaned_df['CASE_RECEIVED_DATE'] = pd.to_datetime(cleaned_df['CASE_RECEIVED_DATE'], errors='coerce')\n",
    "if 'DECISION_DATE' in cleaned_df.columns:\n",
    "    cleaned_df['DECISION_DATE'] = pd.to_datetime(cleaned_df['DECISION_DATE'], errors='coerce')"
   ]
  },
  {
   "cell_type": "code",
   "execution_count": 75,
   "id": "cc946b19-5e98-4d65-987b-ea13fcd0ca41",
   "metadata": {},
   "outputs": [],
   "source": [
    "# Correcting Inconsistencies - Fix Typos and Inconsistent Labels (example for WORK_STATE)\n",
    "cleaned_df['WORK_STATE'] = cleaned_df['WORK_STATE'].str.upper()"
   ]
  },
  {
   "cell_type": "code",
   "execution_count": 77,
   "id": "4112a2c2-ae3a-4454-828f-1e5eceb0e348",
   "metadata": {},
   "outputs": [],
   "source": [
    "# Handling Outliers - Example: Cap the PAID_WAGE_PER_YEAR at the 99th percentile\n",
    "cap_value = cleaned_df['PAID_WAGE_PER_YEAR'].quantile(0.99)\n",
    "cleaned_df['PAID_WAGE_PER_YEAR'] = np.where(cleaned_df['PAID_WAGE_PER_YEAR'] > cap_value, cap_value, cleaned_df['PAID_WAGE_PER_YEAR'])"
   ]
  },
  {
   "cell_type": "code",
   "execution_count": 79,
   "id": "ef7cbe29-809f-48ef-9a1f-40bf4dfb94b8",
   "metadata": {},
   "outputs": [],
   "source": [
    "# Ensuring Data Types are Correct - Convert Data Types (example for PAID_WAGE_PER_YEAR)\n",
    "cleaned_df['PAID_WAGE_PER_YEAR'] = cleaned_df['PAID_WAGE_PER_YEAR'].astype(float)"
   ]
  },
  {
   "cell_type": "code",
   "execution_count": 83,
   "id": "0659f815-6c89-4c6d-8095-b1b36c3ddd78",
   "metadata": {},
   "outputs": [],
   "source": [
    "# Removing Irrelevant Data - Drop Unnecessary Columns (example: 'order')\n",
    "if 'order' in cleaned_df.columns:\n",
    "    cleaned_df = cleaned_df.drop(columns=['order'])"
   ]
  },
  {
   "cell_type": "code",
   "execution_count": 85,
   "id": "3f27abb5-50da-4637-b3d0-e8d3ff6397f2",
   "metadata": {},
   "outputs": [],
   "source": [
    "# Handling Inconsistent Data - Check for Logical Consistency (example: no negative wages)\n",
    "cleaned_df = cleaned_df[cleaned_df['PAID_WAGE_PER_YEAR'] >= 0]"
   ]
  },
  {
   "cell_type": "code",
   "execution_count": 87,
   "id": "3a41ce96-2612-4210-a2fe-ec9ed846fc01",
   "metadata": {},
   "outputs": [],
   "source": [
    "# Encoding Categorical Variables - Convert Categorical Data to Numerical (example: FULL_TIME_POSITION_Y_N)\n",
    "cleaned_df['FULL_TIME_POSITION_Y_N'] = cleaned_df['FULL_TIME_POSITION_Y_N'].map({'Y': 1, 'N': 0})"
   ]
  },
  {
   "cell_type": "code",
   "execution_count": 89,
   "id": "8cca30ff-483e-4015-bffa-2f31f7980af5",
   "metadata": {},
   "outputs": [],
   "source": [
    "# Save the cleaned data to a new Excel file\n",
    "cleaned_file_path = 'cleaned_salary_data_states.xlsx'\n",
    "cleaned_df.to_excel(cleaned_file_path, index=False)"
   ]
  },
  {
   "cell_type": "code",
   "execution_count": 90,
   "id": "299e32c0-4a58-4ea5-8958-c5bdf70e3f90",
   "metadata": {},
   "outputs": [
    {
     "name": "stdout",
     "output_type": "stream",
     "text": [
      "Cleaned data has been saved to cleaned_salary_data_states.xlsx\n"
     ]
    }
   ],
   "source": [
    "print(f\"Cleaned data has been saved to {cleaned_file_path}\")"
   ]
  },
  {
   "cell_type": "code",
   "execution_count": null,
   "id": "95fcdc79-0942-4b37-a696-99453e942889",
   "metadata": {},
   "outputs": [],
   "source": []
  }
 ],
 "metadata": {
  "kernelspec": {
   "display_name": "Python 3 (ipykernel)",
   "language": "python",
   "name": "python3"
  },
  "language_info": {
   "codemirror_mode": {
    "name": "ipython",
    "version": 3
   },
   "file_extension": ".py",
   "mimetype": "text/x-python",
   "name": "python",
   "nbconvert_exporter": "python",
   "pygments_lexer": "ipython3",
   "version": "3.12.4"
  }
 },
 "nbformat": 4,
 "nbformat_minor": 5
}
