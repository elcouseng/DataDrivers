{
 "cells": [
  {
   "cell_type": "code",
   "execution_count": null,
   "id": "645f93b2-7111-4505-b650-8909f0dd58c1",
   "metadata": {},
   "outputs": [],
   "source": [
    "# This is my current WIP for the project"
   ]
  },
  {
   "cell_type": "code",
   "execution_count": null,
   "id": "3541425e-9c5a-4aa9-ad93-7791ca34d9bb",
   "metadata": {},
   "outputs": [],
   "source": []
  }
 ],
 "metadata": {
  "kernelspec": {
   "display_name": "Python 3 (ipykernel)",
   "language": "python",
   "name": "python3"
  },
  "language_info": {
   "codemirror_mode": {
    "name": "ipython",
    "version": 3
   },
   "file_extension": ".py",
   "mimetype": "text/x-python",
   "name": "python",
   "nbconvert_exporter": "python",
   "pygments_lexer": "ipython3",
   "version": "3.12.4"
  }
 },
 "nbformat": 4,
 "nbformat_minor": 5
}
