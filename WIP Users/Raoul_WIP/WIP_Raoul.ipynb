{
 "cells": [
  {
   "cell_type": "code",
   "execution_count": null,
   "id": "ca1f3527-a8f2-4403-99e9-5252e4d22b30",
   "metadata": {},
   "outputs": [],
   "source": [
    "# Lets start here\n"
   ]
  },
  {
   "cell_type": "code",
   "execution_count": 16,
   "id": "70adcca4-adfa-4f50-8e72-58154a134d19",
   "metadata": {},
   "outputs": [],
   "source": [
    "import pandas as pd\n",
    "df = pd.read_excel('salary_data_states.xlsx') "
   ]
  },
  {
   "cell_type": "code",
   "execution_count": 20,
   "id": "47331c10-1be7-48e4-8d14-ac86b2999df2",
   "metadata": {},
   "outputs": [
    {
     "name": "stdout",
     "output_type": "stream",
     "text": [
      "          CASE_NUMBER CASE_STATUS CASE_RECEIVED_DATE DECISION_DATE  \\\n",
      "0  I-200-14073-248840      denied          3/14/2014     3/21/2014   \n",
      "1       A-15061-55212      denied          3/19/2015     3/19/2015   \n",
      "2  I-200-13256-001092      denied          9/13/2013     9/23/2013   \n",
      "3  I-200-14087-353657      denied          3/28/2014      4/7/2014   \n",
      "4  I-203-14259-128844      denied          9/16/2014     9/23/2014   \n",
      "\n",
      "                                       EMPLOYER_NAME  \\\n",
      "0                ADVANCED TECHNOLOGY GROUP USA, INC.   \n",
      "1                     SAN FRANCISCO STATE UNIVERSITY   \n",
      "2                                    CAROUSEL SCHOOL   \n",
      "3  HARLINGEN CONSOLIDATED INDEPENDENT SCHOOL DIST...   \n",
      "4                        SIGNAL SCIENCES CORPORATION   \n",
      "\n",
      "   PREVAILING_WAGE_SUBMITTED PREVAILING_WAGE_SUBMITTED_UNIT  \\\n",
      "0                  6217100.0                           year   \n",
      "1                  5067600.0                           year   \n",
      "2                  4947000.0                           year   \n",
      "3                   251052.0                          month   \n",
      "4                    84573.0                      bi-weekly   \n",
      "\n",
      "   PAID_WAGE_SUBMITTED PAID_WAGE_SUBMITTED_UNIT  \\\n",
      "0              62171.0                     year   \n",
      "1              91440.0                     year   \n",
      "2              49470.0                     year   \n",
      "3              43800.0                     year   \n",
      "4             170000.0                     year   \n",
      "\n",
      "                          JOB_TITLE       WORK_CITY EDUCATION_LEVEL_REQUIRED  \\\n",
      "0                 SOFTWARE ENGINEER     BLOOMINGTON                      NaN   \n",
      "1  Assistant Professor of Marketing   SAN FRANCISCO                Doctorate   \n",
      "2         SPECIAL EDUCATION TEACHER     LOS ANGELES                      NaN   \n",
      "3                   SCIENCE TEACHER  HARLINGEN CISD                      NaN   \n",
      "4          SENIOR SOFTWARE ENGINEER        PORTLAND                      NaN   \n",
      "\n",
      "  COLLEGE_MAJOR_REQUIRED EXPERIENCE_REQUIRED_Y_N  \\\n",
      "0                    NaN                     NaN   \n",
      "1              marketing                       n   \n",
      "2                    NaN                     NaN   \n",
      "3                    NaN                     NaN   \n",
      "4                    NaN                     NaN   \n",
      "\n",
      "   EXPERIENCE_REQUIRED_NUM_MONTHS COUNTRY_OF_CITIZENSHIP  \\\n",
      "0                             NaN                    NaN   \n",
      "1                             NaN                   IRAN   \n",
      "2                             NaN                    NaN   \n",
      "3                             NaN                    NaN   \n",
      "4                             NaN                    NaN   \n",
      "\n",
      "  PREVAILING_WAGE_SOC_CODE                          PREVAILING_WAGE_SOC_TITLE  \\\n",
      "0                  15-1132                  Software Developers, Applications   \n",
      "1                  25-1011                   Business Teachers, Postsecondary   \n",
      "2                  25-2052  Special Education Teachers, Kindergarten and E...   \n",
      "3                  25-1042         Biological Science Teachers, Postsecondary   \n",
      "4                  15-1133              Software Developers, Systems Software   \n",
      "\n",
      "   WORK_STATE WORK_STATE_ABBREVIATION WORK_POSTAL_CODE FULL_TIME_POSITION_Y_N  \\\n",
      "0    Illinois                      IL              NaN                      y   \n",
      "1  California                      CA          94132.0                    NaN   \n",
      "2  California                      CA              NaN                      y   \n",
      "3       Texas                      TX              NaN                      y   \n",
      "4      Oregon                      OR              NaN                      y   \n",
      "\n",
      "       VISA_CLASS  PREVAILING_WAGE_PER_YEAR  PAID_WAGE_PER_YEAR  \\\n",
      "0            H-1B                       NaN             62171.0   \n",
      "1       greencard                       NaN             91440.0   \n",
      "2            H-1B                       NaN             49470.0   \n",
      "3            H-1B                       NaN             43800.0   \n",
      "4  E-3 Australian                       NaN            170000.0   \n",
      "\n",
      "    JOB_TITLE_SUBGROUP  order  \n",
      "0    software engineer      1  \n",
      "1  assistant professor      2  \n",
      "2              teacher      3  \n",
      "3              teacher      4  \n",
      "4    software engineer      5  \n"
     ]
    }
   ],
   "source": [
    "print(df.head())"
   ]
  },
  {
   "cell_type": "code",
   "execution_count": 23,
   "id": "387da4a2-09ad-4b5c-9e4c-c030d889f946",
   "metadata": {},
   "outputs": [
    {
     "name": "stdout",
     "output_type": "stream",
     "text": [
      "Number of unique job titles: 12589\n"
     ]
    }
   ],
   "source": [
    "# Fun Fact 1: Number of unique job titles in this Dataset\n",
    "unique_job_titles = df['JOB_TITLE'].nunique()\n",
    "print(f\"Number of unique job titles: {unique_job_titles}\")\n"
   ]
  },
  {
   "cell_type": "code",
   "execution_count": 25,
   "id": "b3df7a66-1c10-48d9-a8a4-59aa4ff2a85c",
   "metadata": {},
   "outputs": [
    {
     "name": "stdout",
     "output_type": "stream",
     "text": [
      "Average prevailing wage: 71157.5188296369\n"
     ]
    }
   ],
   "source": [
    "# Fun Fact 2: Average prevailing wage #####\n",
    "average_prevailing_wage = df['PREVAILING_WAGE_SUBMITTED'].mean()\n",
    "print(f\"Average prevailing wage: {average_prevailing_wage}\")"
   ]
  },
  {
   "cell_type": "code",
   "execution_count": 27,
   "id": "89926764-dc20-40ba-aaca-d37c0017fd21",
   "metadata": {},
   "outputs": [
    {
     "name": "stdout",
     "output_type": "stream",
     "text": [
      "State with the highest average paid wage: West Virginia\n"
     ]
    }
   ],
   "source": [
    "# Fun Fact 3: State with the highest average paid wage\n",
    "state_highest_avg_paid_wage = df.groupby('WORK_STATE')['PAID_WAGE_SUBMITTED'].mean().idxmax()\n",
    "print(f\"State with the highest average paid wage: {state_highest_avg_paid_wage}\")"
   ]
  },
  {
   "cell_type": "code",
   "execution_count": 29,
   "id": "f6dee9f6-84ba-4e3e-8217-f247f7f3131c",
   "metadata": {},
   "outputs": [
    {
     "name": "stdout",
     "output_type": "stream",
     "text": [
      "Number of cases with 'certified' status: 140031\n"
     ]
    }
   ],
   "source": [
    "# Fun Fact 4: Number of cases with 'certified' status\n",
    "certified_cases = df[df['CASE_STATUS'] == 'certified'].shape[0]\n",
    "print(f\"Number of cases with 'certified' status: {certified_cases}\")"
   ]
  },
  {
   "cell_type": "code",
   "execution_count": 38,
   "id": "ab8205a0-e668-4d7c-8f27-b24373b7d398",
   "metadata": {},
   "outputs": [
    {
     "name": "stdout",
     "output_type": "stream",
     "text": [
      "CASE_STATUS\n",
      "certified              140031\n",
      "certified-withdrawn     14146\n",
      "withdrawn                5602\n",
      "denied                   4273\n",
      "certified-expired        3226\n",
      "Name: count, dtype: int64\n"
     ]
    }
   ],
   "source": [
    "# Fun Fact 4.1: Number of cases and their type\n",
    "\n",
    "case_status_counts = df['CASE_STATUS'].value_counts()\n",
    "print(case_status_counts)"
   ]
  },
  {
   "cell_type": "code",
   "execution_count": 33,
   "id": "303e30fa-b40a-4e47-b2e3-91b48dcd47d0",
   "metadata": {},
   "outputs": [
    {
     "name": "stdout",
     "output_type": "stream",
     "text": [
      "Most common visa class: H-1B\n"
     ]
    }
   ],
   "source": [
    "# Fun Fact 5: Most common visa class\n",
    "most_common_visa_class = df['VISA_CLASS'].mode()[0]\n",
    "print(f\"Most common visa class: {most_common_visa_class}\")"
   ]
  },
  {
   "cell_type": "code",
   "execution_count": null,
   "id": "c421752f-c88e-4a10-99ec-6ff7c04bfcda",
   "metadata": {},
   "outputs": [],
   "source": []
  }
 ],
 "metadata": {
  "kernelspec": {
   "display_name": "Python 3 (ipykernel)",
   "language": "python",
   "name": "python3"
  },
  "language_info": {
   "codemirror_mode": {
    "name": "ipython",
    "version": 3
   },
   "file_extension": ".py",
   "mimetype": "text/x-python",
   "name": "python",
   "nbconvert_exporter": "python",
   "pygments_lexer": "ipython3",
   "version": "3.11.9"
  }
 },
 "nbformat": 4,
 "nbformat_minor": 5
}
